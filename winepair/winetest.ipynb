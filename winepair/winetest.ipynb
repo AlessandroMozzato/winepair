{
 "cells": [
  {
   "cell_type": "code",
   "execution_count": 9,
   "metadata": {},
   "outputs": [],
   "source": [
    "import json\n",
    "import numpy as np"
   ]
  },
  {
   "cell_type": "code",
   "execution_count": 32,
   "metadata": {},
   "outputs": [],
   "source": [
    "with open('foodFlavorDictionaryForDinner.json') as infile: \n",
    "    foodFlavorDictionaryForDinner = json.load(infile)\n",
    "    \n",
    "with open('wineFlavorDictionary.json') as infile: \n",
    "    wineFlavorDictionary = json.load(infile)"
   ]
  },
  {
   "cell_type": "code",
   "execution_count": 25,
   "metadata": {},
   "outputs": [
    {
     "name": "stdout",
     "output_type": "stream",
     "text": [
      "11.777777777777775\n",
      "54.77777777777778\n",
      "53.777777777777786\n",
      "9.444444444444445\n",
      "51.77777777777778\n",
      "35.77777777777777\n",
      "6.444444444444445\n",
      "27.777777777777782\n",
      "56.111111111111114\n",
      "57.777777777777786\n",
      "5.444444444444445\n",
      "18.11111111111111\n",
      "42.77777777777778\n",
      "38.777777777777786\n",
      "39.77777777777778\n",
      "30.444444444444443\n",
      "12.444444444444443\n",
      "44.44444444444446\n",
      "31.444444444444446\n",
      "9.444444444444443\n",
      "29.111111111111107\n",
      "17.77777777777778\n",
      "5.777777777777779\n",
      "24.77777777777778\n",
      "4.4444444444444455\n",
      "32.111111111111114\n",
      "28.777777777777782\n",
      "58.777777777777786\n",
      "52.1111111111111\n",
      "41.44444444444445\n",
      "50.111111111111114\n",
      "15.444444444444445\n"
     ]
    }
   ],
   "source": [
    "f = foodFlavorDictionaryForDinner['AcornSquash']\n",
    "\n",
    "for w in wineFlavorDictionary.keys():\n",
    "    print(np.sum((np.array(wineFlavorDictionary[w]) - np.array(f))**2))"
   ]
  },
  {
   "cell_type": "code",
   "execution_count": 33,
   "metadata": {},
   "outputs": [
    {
     "data": {
      "text/plain": [
       "{'Barbera': [5.0, 2.0, 1.0, 5.0, 3.0, 5.0, 3.0, 2.0, 5.0, 3.0],\n",
       " 'Beaujolais': [4.0, 3.0, 2.0, 4.0, 3.0, 5.0, 5.0, 1.0, 3.0, 5.0],\n",
       " 'CabernetFranc': [5.0, 0.0, 2.0, 5.0, 2.0, 5.0, 4.0, 0.0, 4.0, 3.0],\n",
       " 'CabernetSauvignon': [3.0, 5.0, 2.0, 4.0, 3.0, 2.0, 5.0, 3.0, 4.0, 5.0],\n",
       " 'Carmenere': [5.0, 3.0, 4.0, 5.0, 4.0, 2.0, 5.0, 1.0, 3.0, 4.0],\n",
       " 'Chablis': [2.0, 4.0, 3.0, 5.0, 5.0, 3.0, 2.0, 4.0, 2.0, 0.0],\n",
       " 'Chardonnay': [1.0, 4.0, 5.0, 2.0, 3.0, 3.0, 4.0, 4.0, 3.0, 2.0],\n",
       " 'CheninBlanc': [1.0, 1.0, 4.0, 4.0, 3.0, 2.0, 2.0, 5.0, 2.0, 2.0],\n",
       " 'Chianti': [4.0, 1.0, 0.0, 4.0, 3.0, 3.0, 2.0, 2.0, 5.0, 4.0],\n",
       " 'Gewurztraminer': [0.0, 2.0, 5.0, 4.0, 3.0, 2.0, 3.0, 3.0, 2.0, 3.0],\n",
       " 'Madiera': [2.0, 3.0, 5.0, 0.0, 3.0, 1.0, 1.0, 3.0, 3.0, 1.0],\n",
       " 'Malbec': [4.0, 5.0, 3.0, 2.0, 2.0, 3.0, 4.0, 0.0, 2.0, 4.0],\n",
       " 'Merlot': [5.0, 3.0, 3.0, 2.0, 1.0, 3.0, 5.0, 2.0, 2.0, 3.0],\n",
       " 'Monastrell': [4.0, 5.0, 4.0, 5.0, 5.0, 5.0, 5.0, 1.0, 5.0, 5.0],\n",
       " 'Montepulciano': [4.0, 2.0, 2.0, 4.0, 4.0, 3.0, 1.0, 2.0, 4.0, 4.0],\n",
       " 'Moscato': [1.0, 5.0, 5.0, 3.0, 5.0, 2.0, 1.0, 5.0, 0.0, 0.0],\n",
       " 'Muscat': [1.0, 3.0, 4.0, 2.0, 3.0, 4.0, 3.0, 4.0, 4.0, 2.0],\n",
       " 'PinotBlanc': [1.0, 3.0, 4.0, 2.0, 0.0, 0.0, 2.0, 3.0, 4.0, 0.0],\n",
       " 'PinotGrigio': [1.0, 4.0, 4.0, 0.0, 0.0, 4.0, 2.0, 3.0, 4.0, 0.0],\n",
       " 'PinotNoir': [5.0, 0.0, 5.0, 3.0, 0.0, 4.0, 3.0, 1.0, 3.0, 4.0],\n",
       " 'Prosecco': [2.0, 3.0, 4.0, 2.0, 5.0, 2.0, 3.0, 4.0, 3.0, 2.0],\n",
       " 'Riesling': [1.0, 1.0, 5.0, 2.0, 3.0, 4.0, 1.0, 3.0, 3.0, 2.0],\n",
       " 'Sancerre': [2.0, 2.0, 5.0, 1.0, 4.0, 0.0, 0.0, 3.0, 0.0, 2.0],\n",
       " 'Sangiovese': [5.0, 3.0, 0.0, 4.0, 4.0, 3.0, 2.0, 5.0, 4.0, 4.0],\n",
       " 'Sauternes': [0.0, 2.0, 5.0, 2.0, 3.0, 1.0, 3.0, 3.0, 0.0, 2.0],\n",
       " 'SauvignonBlanc': [2.0, 4.0, 4.0, 2.0, 1.0, 1.0, 2.0, 4.0, 2.0, 2.0],\n",
       " 'Shiraz': [4.0, 5.0, 2.0, 3.0, 2.0, 5.0, 4.0, 0.0, 5.0, 5.0],\n",
       " 'Soave': [0.0, 2.0, 4.0, 0.0, 4.0, 2.0, 2.0, 4.0, 3.0, 2.0],\n",
       " 'Syrah': [3.0, 5.0, 3.0, 4.0, 5.0, 3.0, 4.0, 3.0, 3.0, 5.0],\n",
       " 'Tempranillo': [5.0, 2.0, 0.0, 4.0, 3.0, 4.0, 2.0, 3.0, 4.0, 4.0],\n",
       " 'Viognier': [1.0, 3.0, 5.0, 3.0, 4.0, 0.0, 4.0, 2.0, 4.0, 1.0],\n",
       " 'Zinfandel': [3.0, 3.0, 0.0, 0.0, 5.0, 1.0, 5.0, 2.0, 3.0, 3.0]}"
      ]
     },
     "execution_count": 33,
     "metadata": {},
     "output_type": "execute_result"
    }
   ],
   "source": [
    "wineFlavorDictionary"
   ]
  },
  {
   "cell_type": "code",
   "execution_count": 45,
   "metadata": {},
   "outputs": [
    {
     "name": "stdout",
     "output_type": "stream",
     "text": [
      "Soave\n",
      "Sangiovese\n",
      "Zinfandel\n",
      "Chenin Blanc\n",
      "Tempranillo\n",
      "Merlot\n",
      "Riesling\n",
      "Pinot Blanc\n",
      "Monastrell\n",
      "Shiraz\n",
      "Muscat\n",
      "Madiera\n",
      "Pinot Noir\n",
      "Cabernet Sauvignon\n",
      "Malbec\n",
      "Moscato\n",
      "Sauternes\n",
      "Beaujolais\n",
      "Syrah\n",
      "Prosecco\n",
      "Sancerre\n",
      "Viognier\n",
      "Chardonnay\n",
      "Chablis\n",
      "Gewurztraminer\n",
      "Montepulciano\n",
      "Pinot Grigio\n",
      "Cabernet Franc\n",
      "Barbera\n",
      "Carmenere\n",
      "Chianti\n",
      "Sauvignon Blanc\n"
     ]
    }
   ],
   "source": [
    "def splitwine(w):\n",
    "    s = re.split(\"([A-Z][^A-Z]*)\", w)[1:-1]\n",
    "    if len(s)>1:\n",
    "        return s[0] + ' ' + s[2]\n",
    "    else:\n",
    "        return s[0]\n",
    "        \n",
    "for w in wineFlavorDictionary.keys():\n",
    "    print(splitwine(w))"
   ]
  },
  {
   "cell_type": "code",
   "execution_count": 31,
   "metadata": {},
   "outputs": [],
   "source": [
    "mind = 100\n",
    "minw = ''\n",
    "for w in wineFlavorDictionary.keys():\n",
    "    mindtmp = np.sum((np.asarray(wineFlavorDictionary[w], dtype=float) - np.asarray(f, dtype=float))**2)\n",
    "    if (mind > mindtmp):\n",
    "        mind = mindtmp\n",
    "        minw = w"
   ]
  }
 ],
 "metadata": {
  "kernelspec": {
   "display_name": "Python 3",
   "language": "python",
   "name": "python3"
  },
  "language_info": {
   "codemirror_mode": {
    "name": "ipython",
    "version": 3
   },
   "file_extension": ".py",
   "mimetype": "text/x-python",
   "name": "python",
   "nbconvert_exporter": "python",
   "pygments_lexer": "ipython3",
   "version": "3.5.4"
  }
 },
 "nbformat": 4,
 "nbformat_minor": 2
}
