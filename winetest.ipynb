{
 "cells": [
  {
   "cell_type": "code",
   "execution_count": 9,
   "metadata": {},
   "outputs": [],
   "source": [
    "import json\n",
    "import numpy as np"
   ]
  },
  {
   "cell_type": "code",
   "execution_count": 24,
   "metadata": {},
   "outputs": [],
   "source": [
    "with open('foodFlavorDictionaryForDinner.json') as infile: \n",
    "    foodFlavorDictionaryForDinner = json.load(infile)\n",
    "    \n",
    "with open('wineFlavorDictionary.json') as infile: \n",
    "    wineFlavorDictionary = json.load(infile)"
   ]
  },
  {
   "cell_type": "code",
   "execution_count": 25,
   "metadata": {},
   "outputs": [
    {
     "name": "stdout",
     "output_type": "stream",
     "text": [
      "11.777777777777775\n",
      "54.77777777777778\n",
      "53.777777777777786\n",
      "9.444444444444445\n",
      "51.77777777777778\n",
      "35.77777777777777\n",
      "6.444444444444445\n",
      "27.777777777777782\n",
      "56.111111111111114\n",
      "57.777777777777786\n",
      "5.444444444444445\n",
      "18.11111111111111\n",
      "42.77777777777778\n",
      "38.777777777777786\n",
      "39.77777777777778\n",
      "30.444444444444443\n",
      "12.444444444444443\n",
      "44.44444444444446\n",
      "31.444444444444446\n",
      "9.444444444444443\n",
      "29.111111111111107\n",
      "17.77777777777778\n",
      "5.777777777777779\n",
      "24.77777777777778\n",
      "4.4444444444444455\n",
      "32.111111111111114\n",
      "28.777777777777782\n",
      "58.777777777777786\n",
      "52.1111111111111\n",
      "41.44444444444445\n",
      "50.111111111111114\n",
      "15.444444444444445\n"
     ]
    }
   ],
   "source": [
    "f = foodFlavorDictionaryForDinner['AcornSquash']\n",
    "\n",
    "for w in wineFlavorDictionary.keys():\n",
    "    print(np.sum((np.array(wineFlavorDictionary[w]) - np.array(f))**2))"
   ]
  },
  {
   "cell_type": "code",
   "execution_count": 29,
   "metadata": {},
   "outputs": [],
   "source": [
    "f = foodFlavorDictionaryForDinner['Avocado']\n"
   ]
  },
  {
   "cell_type": "code",
   "execution_count": 31,
   "metadata": {},
   "outputs": [],
   "source": [
    "mind = 100\n",
    "minw = ''\n",
    "for w in wineFlavorDictionary.keys():\n",
    "    mindtmp = np.sum((np.asarray(wineFlavorDictionary[w], dtype=float) - np.asarray(f, dtype=float))**2)\n",
    "    if (mind > mindtmp):\n",
    "        mind = mindtmp\n",
    "        minw = w"
   ]
  }
 ],
 "metadata": {
  "kernelspec": {
   "display_name": "Python 3",
   "language": "python",
   "name": "python3"
  },
  "language_info": {
   "codemirror_mode": {
    "name": "ipython",
    "version": 3
   },
   "file_extension": ".py",
   "mimetype": "text/x-python",
   "name": "python",
   "nbconvert_exporter": "python",
   "pygments_lexer": "ipython3",
   "version": "3.5.4"
  }
 },
 "nbformat": 4,
 "nbformat_minor": 2
}
